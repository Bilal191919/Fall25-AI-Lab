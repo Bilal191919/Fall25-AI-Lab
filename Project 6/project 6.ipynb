{
 "cells": [
  {
   "cell_type": "code",
   "execution_count": 1,
   "id": "02bb6381",
   "metadata": {},
   "outputs": [
    {
     "name": "stdout",
     "output_type": "stream",
     "text": [
      "DFS order is: ['A', 'B', 'D', 'E', 'F', 'C']\n"
     ]
    }
   ],
   "source": [
    "graph = {\n",
    "    'A': ['B', 'C'],\n",
    "    'B': ['D', 'E'],\n",
    "    'C': ['F'],\n",
    "    'D': [],\n",
    "    'E': ['F'],\n",
    "    'F': []\n",
    "}\n",
    "\n",
    "start = 'A'                 \n",
    "stack = [start]             \n",
    "visited = []                \n",
    "\n",
    "while stack:\n",
    "    node = stack.pop()      \n",
    "    if node not in visited:\n",
    "        visited.append(node)\n",
    "\n",
    "        for nei in reversed(graph[node]):\n",
    "            if nei not in visited:\n",
    "                stack.append(nei)\n",
    "\n",
    "print(\"DFS order is:\", visited)"
   ]
  }
 ],
 "metadata": {
  "kernelspec": {
   "display_name": "Python 3",
   "language": "python",
   "name": "python3"
  },
  "language_info": {
   "codemirror_mode": {
    "name": "ipython",
    "version": 3
   },
   "file_extension": ".py",
   "mimetype": "text/x-python",
   "name": "python",
   "nbconvert_exporter": "python",
   "pygments_lexer": "ipython3",
   "version": "3.13.3"
  }
 },
 "nbformat": 4,
 "nbformat_minor": 5
}
