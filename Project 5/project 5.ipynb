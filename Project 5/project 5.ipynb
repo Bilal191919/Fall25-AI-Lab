{
 "cells": [
  {
   "cell_type": "code",
   "execution_count": 7,
   "id": "e83e621b",
   "metadata": {},
   "outputs": [
    {
     "name": "stdout",
     "output_type": "stream",
     "text": [
      "bfs_with_queue -> ['A', 'B', 'C', 'D', 'F', 'E']\n"
     ]
    }
   ],
   "source": [
    "from collections import deque\n",
    "\n",
    "def bfs_with_queue(g, s):\n",
    "    vis = set([s])\n",
    "    q = deque([s])\n",
    "    out = []\n",
    "    while q:\n",
    "        u = q.popleft()\n",
    "        out.append(u)\n",
    "        for v in g.get(u, []):\n",
    "            if v not in vis:\n",
    "                vis.add(v)\n",
    "                q.append(v)\n",
    "    print('bfs_with_queue ->', out)\n",
    "\n",
    "g = {'A':['B','C'], 'B':['D','F'], 'C':['E'], 'D':[], 'E':[], 'F':[]}\n",
    "\n",
    "bfs_with_queue(g, 'A')\n"
   ]
  },
  {
   "cell_type": "code",
   "execution_count": 8,
   "id": "022d9374",
   "metadata": {},
   "outputs": [
    {
     "name": "stdout",
     "output_type": "stream",
     "text": [
      "bfs_no_queue -> ['A', 'B', 'C', 'D', 'F', 'E']\n"
     ]
    }
   ],
   "source": [
    "def bfs_no_queue(g, s):\n",
    "    vis = set([s])\n",
    "    layer = [s]\n",
    "    out = []\n",
    "    while layer:\n",
    "        nxt = []\n",
    "        for u in layer:\n",
    "            out.append(u)\n",
    "            for v in g.get(u, []):\n",
    "                if v not in vis:\n",
    "                    vis.add(v)\n",
    "                    nxt.append(v)\n",
    "        layer = nxt\n",
    "    print('bfs_no_queue ->', out)\n",
    "\n",
    "bfs_no_queue(g, 'A')\n"
   ]
  }
 ],
 "metadata": {
  "kernelspec": {
   "display_name": "Python 3",
   "language": "python",
   "name": "python3"
  },
  "language_info": {
   "codemirror_mode": {
    "name": "ipython",
    "version": 3
   },
   "file_extension": ".py",
   "mimetype": "text/x-python",
   "name": "python",
   "nbconvert_exporter": "python",
   "pygments_lexer": "ipython3",
   "version": "3.13.3"
  }
 },
 "nbformat": 4,
 "nbformat_minor": 5
}
