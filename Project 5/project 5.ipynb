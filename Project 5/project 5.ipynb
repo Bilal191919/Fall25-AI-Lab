{
 "cells": [
  {
   "cell_type": "code",
   "execution_count": 1,
   "id": "47625af2",
   "metadata": {},
   "outputs": [
    {
     "name": "stdout",
     "output_type": "stream",
     "text": [
      "['A', 'B', 'C', 'D', 'E', 'F']\n"
     ]
    }
   ],
   "source": [
    "from collections import deque\n",
    "\n",
    "def bfs_with_queue(graph, start):\n",
    "    visited = set([start])\n",
    "    order = []\n",
    "    q = deque([start])\n",
    "    while q:\n",
    "        node = q.popleft()\n",
    "        order.append(node)\n",
    "        for nei in graph.get(node, []):\n",
    "            if nei not in visited:\n",
    "                visited.add(nei)\n",
    "                q.append(nei)\n",
    "    return order\n",
    "\n",
    "sample_graph = {\n",
    "    'A': ['B', 'C'],\n",
    "    'B': ['D', 'E'],\n",
    "    'C': ['F'],\n",
    "    'D': [],\n",
    "    'E': ['F'],\n",
    "    'F': []\n",
    "}\n",
    "\n",
    "print(bfs_with_queue(sample_graph, 'A'))"
   ]
  },
  {
   "cell_type": "code",
   "execution_count": 2,
   "id": "c4983d11",
   "metadata": {},
   "outputs": [
    {
     "name": "stdout",
     "output_type": "stream",
     "text": [
      "['A', 'B', 'C', 'D', 'E', 'F']\n"
     ]
    }
   ],
   "source": [
    "def bfs_without_queue(graph, start):\n",
    "    visited = set([start])\n",
    "    order = []\n",
    "    current_level = {start}\n",
    "    while current_level:\n",
    "        order.extend(current_level)\n",
    "        next_level = set()\n",
    "        for node in current_level:\n",
    "            for nei in graph.get(node, []):\n",
    "                if nei not in visited:\n",
    "                    visited.add(nei)\n",
    "                    next_level.add(nei)\n",
    "        current_level = next_level\n",
    "    return order\n",
    "\n",
    "print(bfs_without_queue(sample_graph, 'A'))"
   ]
  }
 ],
 "metadata": {
  "kernelspec": {
   "display_name": "Python 3",
   "language": "python",
   "name": "python3"
  },
  "language_info": {
   "codemirror_mode": {
    "name": "ipython",
    "version": 3
   },
   "file_extension": ".py",
   "mimetype": "text/x-python",
   "name": "python",
   "nbconvert_exporter": "python",
   "pygments_lexer": "ipython3",
   "version": "3.13.3"
  }
 },
 "nbformat": 4,
 "nbformat_minor": 5
}
