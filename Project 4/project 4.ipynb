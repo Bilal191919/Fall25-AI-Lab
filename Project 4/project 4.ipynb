{
 "cells": [
  {
   "cell_type": "code",
   "execution_count": 1,
   "id": "3a3906eb",
   "metadata": {},
   "outputs": [
    {
     "name": "stdout",
     "output_type": "stream",
     "text": [
      "Invalid\n",
      "ftf\n",
      "6\n"
     ]
    }
   ],
   "source": [
    "def luhn_check(card_number):\n",
    "    digits = [int(ch) for ch in card_number if ch.isdigit()]\n",
    "    if not digits:\n",
    "        return False\n",
    "    check = digits.pop()\n",
    "    digits.reverse()\n",
    "    total = 0\n",
    "    for i, d in enumerate(digits):\n",
    "        if i % 2 == 0:\n",
    "            d *= 2\n",
    "            if d > 9:\n",
    "                d -= 9\n",
    "        total += d\n",
    "    total += check\n",
    "    return total % 10 == 0\n",
    "\n",
    "n = input(\"Enter card number: \").strip()\n",
    "print(\"Valid\" if luhn_check(n) else \"Invalid\")\n",
    "s = input(\"Enter sentence with punctuation: \")\n",
    "punct = \",.!?;:'\\\"-()[]{}@#$%^&*_+/\\\\|<>~`\"\n",
    "out = \"\".join(ch for ch in s if ch not in punct)\n",
    "print(out)\n",
    "\n",
    "line = input(\"Enter words to sort: \")\n",
    "words = line.split()\n",
    "words.sort(key=lambda w: w.lower())\n",
    "result = \" \".join(words)\n",
    "print(result)\n",
    "None"
   ]
  }
 ],
 "metadata": {
  "kernelspec": {
   "display_name": "Python 3",
   "language": "python",
   "name": "python3"
  },
  "language_info": {
   "codemirror_mode": {
    "name": "ipython",
    "version": 3
   },
   "file_extension": ".py",
   "mimetype": "text/x-python",
   "name": "python",
   "nbconvert_exporter": "python",
   "pygments_lexer": "ipython3",
   "version": "3.13.3"
  }
 },
 "nbformat": 4,
 "nbformat_minor": 5
}
