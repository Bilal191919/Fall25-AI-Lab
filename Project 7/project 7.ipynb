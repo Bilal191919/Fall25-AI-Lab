{
 "cells": [
  {
   "cell_type": "code",
   "execution_count": 1,
   "id": "455201fe",
   "metadata": {},
   "outputs": [
    {
     "name": "stdout",
     "output_type": "stream",
     "text": [
      "Path found: ['A', 'B', 'D']\n"
     ]
    },
    {
     "data": {
      "text/plain": [
       "['A', 'B', 'D']"
      ]
     },
     "execution_count": 1,
     "metadata": {},
     "output_type": "execute_result"
    }
   ],
   "source": [
    "class Graph:\n",
    "    def __init__(self, gmap):\n",
    "        self.gmap = gmap\n",
    "    def neigh(self, x):\n",
    "        return self.gmap.get(x, [])\n",
    "    def h(self, x):\n",
    "        H = {'A':1,'B':1,'C':1,'D':1}\n",
    "        return H.get(x,0)\n",
    "    def astar(self, s, t):\n",
    "        openS = set([s])\n",
    "        closed = set()\n",
    "        cost = {s:0}\n",
    "        par = {s:s}\n",
    "        while openS:\n",
    "            cur = None\n",
    "            for v in openS:\n",
    "                if cur is None or cost[v]+self.h(v) < cost[cur]+self.h(cur):\n",
    "                    cur = v\n",
    "            if cur is None:\n",
    "                print('Path does not exist!')\n",
    "                return None\n",
    "            if cur==t:\n",
    "                path=[]\n",
    "                while par[cur]!=cur:\n",
    "                    path.append(cur)\n",
    "                    cur=par[cur]\n",
    "                path.append(s)\n",
    "                path.reverse()\n",
    "                print('Path found:',path)\n",
    "                return path\n",
    "            for (n,w) in self.neigh(cur):\n",
    "                if n not in openS and n not in closed:\n",
    "                    openS.add(n)\n",
    "                    par[n]=cur\n",
    "                    cost[n]=cost[cur]+w\n",
    "                else:\n",
    "                    if cost.get(n,1e18) > cost[cur]+w:\n",
    "                        cost[n]=cost[cur]+w\n",
    "                        par[n]=cur\n",
    "                        if n in closed:\n",
    "                            closed.remove(n)\n",
    "                            openS.add(n)\n",
    "            openS.remove(cur)\n",
    "            closed.add(cur)\n",
    "        print('Path does not exist!')\n",
    "        return None\n",
    "gmap = {'A':[('B',1),('C',3),('D',7)],'B':[('D',5)],'C':[('D',12)],'D':[]}\n",
    "G = Graph(gmap)\n",
    "G.astar('A','D')\n"
   ]
  }
 ],
 "metadata": {
  "kernelspec": {
   "display_name": "Python 3",
   "language": "python",
   "name": "python3"
  },
  "language_info": {
   "codemirror_mode": {
    "name": "ipython",
    "version": 3
   },
   "file_extension": ".py",
   "mimetype": "text/x-python",
   "name": "python",
   "nbconvert_exporter": "python",
   "pygments_lexer": "ipython3",
   "version": "3.13.3"
  }
 },
 "nbformat": 4,
 "nbformat_minor": 5
}
